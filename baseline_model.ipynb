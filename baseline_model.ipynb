{
 "cells": [
  {
   "cell_type": "code",
   "execution_count": 18,
   "id": "96e5f51e",
   "metadata": {},
   "outputs": [],
   "source": [
    "import numpy as np\n",
    "import pandas as pd\n",
    "import os\n",
    "from keras.preprocessing.image import load_img, img_to_array\n",
    "\n",
    "data_dir = \"dataset/\"\n",
    "\n",
    "def get_image_mean(image):\n",
    "    return np.mean(image, axis=(0, 1))\n",
    "\n",
    "\n",
    "def load_image_cropped(path):\n",
    "    im = load_img(path)\n",
    "    width, height = im.size\n",
    "\n",
    "    crop_size = 224\n",
    "    if width < crop_size or height < crop_size:\n",
    "        return im\n",
    "\n",
    "    left = (width - crop_size)/2\n",
    "    top = (height - crop_size)/2\n",
    "    right = (width + crop_size)/2\n",
    "    bottom = (height + crop_size)/2\n",
    "\n",
    "    # Crop the center of the image\n",
    "    im = im.crop((left, top, right, bottom))\n",
    "\n",
    "    return im\n",
    "\n",
    "\n",
    "def load_images(data_type, class_name):\n",
    "    path = os.path.join(data_dir, data_type, class_name)\n",
    "    images = os.listdir(path)\n",
    "        \n",
    "    if data_type == \"train\":\n",
    "        return np.mean(np.array([get_image_mean(img_to_array(load_image_cropped(os.path.join(path, image)))) for image in images]), axis=0)\n",
    "    \n",
    "    return [img_to_array(load_image_cropped(os.path.join(path, image))) for image in images]\n",
    "\n",
    "\n",
    "def create_data(data_type):\n",
    "    return {\n",
    "        class_name: load_images(data_type, class_name)\n",
    "        for class_name in os.listdir(os.path.join(data_dir, data_type))\n",
    "    }\n",
    "\n",
    "\n",
    "train_data = create_data(\"train\")\n",
    "test_data = create_data(\"test\")"
   ]
  },
  {
   "cell_type": "code",
   "execution_count": 11,
   "id": "e734b2b3-8e71-420d-831a-1520a2f2e76b",
   "metadata": {},
   "outputs": [
    {
     "data": {
      "text/plain": [
       "0.2200557103064067"
      ]
     },
     "execution_count": 11,
     "metadata": {},
     "output_type": "execute_result"
    }
   ],
   "source": [
    "def predict_image(image, train):\n",
    "    image_mean = get_image_mean(image)\n",
    "    minimal_distance = np.linalg.norm(np.array((0, 0, 0)) - np.array((255, 255, 255))) + 1\n",
    "    minimal_distance_class = \"\"\n",
    "    for class_name in train.keys():\n",
    "        distance = np.linalg.norm(image_mean - train[class_name])\n",
    "        if distance < minimal_distance:\n",
    "            minimal_distance = distance\n",
    "            minimal_distance_class = class_name\n",
    "    return minimal_distance_class\n",
    "\n",
    "\n",
    "def evaluate(train, test):\n",
    "    total_length = 0\n",
    "    correct_predictions = 0\n",
    "    for class_name, image_list in test.items():\n",
    "        total_length += len(image_list)\n",
    "        correct_predictions += sum([1 if predict_image(image, train) == class_name else 0 for image in image_list])\n",
    "    return correct_predictions / total_length\n",
    "\n",
    "\n",
    "evaluate(train_data, test_data)"
   ]
  },
  {
   "cell_type": "markdown",
   "id": "a2ab697a-47bc-437a-89ad-7edf3d130610",
   "metadata": {},
   "source": [
    "# Baseline Model\n",
    "\n",
    "Q: How does it work?\n",
    "A: For each image it creates a 3D vector that is a mean of the pixel colour value of the image.\n",
    "   For training it takes those vectors and creates a mean of them.\n",
    "   For predicting an image it calculates the euclidean distance between the mean of the image and vector of each class and predicts the closes class.\n",
    "\n",
    "Q: Why is it so bad and inefficient?\n",
    "A: Because I am both mentally and physically ill, so instead of browsing google for ages I created my own spaghetti code."
   ]
  },
  {
   "cell_type": "code",
   "execution_count": 57,
   "id": "25a90b08",
   "metadata": {},
   "outputs": [
    {
     "data": {
      "image/png": "[encoded data removed]",
      "text/plain": [
       "<Figure size 432x288 with 1 Axes>"
      ]
     },
     "metadata": {
      "needs_background": "light"
     },
     "output_type": "display_data"
    }
   ],
   "source": [
    "from matplotlib.pyplot import imshow\n",
    "\n",
    "\n",
    "def show_image(path):\n",
    "    im = load_img(path)\n",
    "    imshow(np.asarray(im))\n",
    "\n",
    "\n",
    "def show_image_cropped(path):\n",
    "    im = load_image_cropped(path)\n",
    "    imshow(np.asarray(im))\n",
    "\n",
    "    \n",
    "def show_mean_color(path):\n",
    "    mean = get_image_mean(load_img(path))\n",
    "    mean = mean.reshape(1,1,3) / 255\n",
    "    imshow(mean)\n",
    "\n",
    "\n",
    "path = \"dataset/train/apple/Image_1.jpg\"\n",
    "#show_image(path)\n",
    "\n",
    "#show_image_cropped(path)\n",
    "show_mean_color(path)"
   ]
  },
  {
   "cell_type": "code",
   "execution_count": null,
   "id": "2cbf1970",
   "metadata": {},
   "outputs": [],
   "source": []
  }
 ],
 "metadata": {
  "kernelspec": {
   "display_name": "Python 3 (ipykernel)",
   "language": "python",
   "name": "python3"
  },
  "language_info": {
   "codemirror_mode": {
    "name": "ipython",
    "version": 3
   },
   "file_extension": ".py",
   "mimetype": "text/x-python",
   "name": "python",
   "nbconvert_exporter": "python",
   "pygments_lexer": "ipython3",
   "version": "3.9.12"
  }
 },
 "nbformat": 4,
 "nbformat_minor": 5
}
