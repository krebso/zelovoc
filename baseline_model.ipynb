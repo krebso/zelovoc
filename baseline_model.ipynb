{
 "cells": [
  {
   "cell_type": "code",
   "execution_count": 3,
   "id": "8488d19a-7c79-4715-b4df-ba69a76c1b59",
   "metadata": {},
   "outputs": [],
   "source": [
    "import numpy as np\n",
    "import pandas as pd\n",
    "import os\n",
    "from keras.preprocessing.image import load_img, img_to_array\n",
    "\n",
    "data_dir = \"dataset/\"\n",
    "\n",
    "def get_image_mean(image):\n",
    "    return np.mean(image, axis=(0, 1))\n",
    "\n",
    "\n",
    "def load_images(data_type, class_name):\n",
    "    if data_type == \"train\":\n",
    "        return np.mean(np.array([get_image_mean(img_to_array(load_img(os.path.join(data_dir, data_type, class_name, image)))) for image in os.listdir(os.path.join(data_dir, data_type, class_name))]), axis=0)\n",
    "    return [img_to_array(load_img(os.path.join(data_dir, data_type, class_name, image))) for image in os.listdir(os.path.join(data_dir, data_type, class_name))]\n",
    "\n",
    "\n",
    "def create_data(data_type):\n",
    "    return {\n",
    "        class_name: load_images(data_type, class_name)\n",
    "        for class_name in os.listdir(os.path.join(data_dir, data_type))\n",
    "    }\n",
    "\n",
    "\n",
    "train_data = create_data(\"train\")\n",
    "test_data = create_data(\"test\")"
   ]
  },
  {
   "cell_type": "code",
   "execution_count": 10,
   "id": "e734b2b3-8e71-420d-831a-1520a2f2e76b",
   "metadata": {},
   "outputs": [
    {
     "data": {
      "text/plain": [
       "0.09192200557103064"
      ]
     },
     "execution_count": 10,
     "metadata": {},
     "output_type": "execute_result"
    }
   ],
   "source": [
    "def predict_image(image, train):\n",
    "    image_mean = get_image_mean(image)\n",
    "    minimal_distance = np.linalg.norm(np.array((0, 0, 0)) - np.array((255, 255, 255))) + 1\n",
    "    minimal_distance_class = \"\"\n",
    "    for class_name in train.keys():\n",
    "        distance = np.linalg.norm(image_mean - train[class_name])\n",
    "        if distance < minimal_distance:\n",
    "            minimal_distance = distance\n",
    "            minimal_distance_class = class_name\n",
    "    return minimal_distance_class\n",
    "\n",
    "\n",
    "def evaluate(train, test):\n",
    "    total_length = 0\n",
    "    correct_predictions = 0\n",
    "    for class_name, image_list in test.items():\n",
    "        total_length += len(image_list)\n",
    "        correct_predictions += sum([1 if predict_image(image, train) == class_name else 0 for image in image_list])\n",
    "    return correct_predictions / total_length\n",
    "\n",
    "\n",
    "evaluate(train_data, test_data)"
   ]
  },
  {
   "cell_type": "markdown",
   "id": "a2ab697a-47bc-437a-89ad-7edf3d130610",
   "metadata": {},
   "source": [
    "# Baseline Model\n",
    "\n",
    "Q: How does it work?\n",
    "A: For each image it creates a 3D vector that is a mean of the pixel colour value of the image.\n",
    "   For training it takes those vectors and creates a mean of them.\n",
    "   For predicting an image it calculates the euclidean distance between the mean of the image and vector of each class and predicts the closes class.\n",
    "\n",
    "Q: Why is it so bad and inefficient?\n",
    "A: Because I am both mentally and physically ill, so instead of browsing google for ages I created my own spaghetti code."
   ]
  }
 ],
 "metadata": {
  "kernelspec": {
   "display_name": "Python 3 (ipykernel)",
   "language": "python",
   "name": "python3"
  },
  "language_info": {
   "codemirror_mode": {
    "name": "ipython",
    "version": 3
   },
   "file_extension": ".py",
   "mimetype": "text/x-python",
   "name": "python",
   "nbconvert_exporter": "python",
   "pygments_lexer": "ipython3",
   "version": "3.10.3"
  }
 },
 "nbformat": 4,
 "nbformat_minor": 5
}
